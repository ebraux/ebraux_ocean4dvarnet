{
  "cells": [
    {
      "cell_type": "markdown",
      "metadata": {
        "id": "bixd_KEmI3AQ"
      },
      "source": [
        "# Setup"
      ]
    },
    {
      "cell_type": "markdown",
      "metadata": {
        "id": "ptQzzxsgI8Q-"
      },
      "source": [
        "## Clone repo"
      ]
    },
    {
      "cell_type": "code",
      "execution_count": 1,
      "metadata": {
        "colab": {
          "base_uri": "https://localhost:8080/"
        },
        "id": "Khf586fZJjrl",
        "outputId": "c92e7263-20b2-41a9-b967-c69fd1ea38c0"
      },
      "outputs": [
        {
          "name": "stdout",
          "output_type": "stream",
          "text": [
            "Cloning into '4dvarnet-starter'...\n",
            "remote: Enumerating objects: 8766, done.\u001b[K\n",
            "remote: Counting objects: 100% (814/814), done.\u001b[K\n",
            "remote: Compressing objects: 100% (194/194), done.\u001b[K\n",
            "remote: Total 8766 (delta 698), reused 620 (delta 620), pack-reused 7952 (from 1)\u001b[K\n",
            "Receiving objects: 100% (8766/8766), 1.13 GiB | 11.61 MiB/s, done.\n",
            "Resolving deltas: 100% (6521/6521), done.\n"
          ]
        }
      ],
      "source": [
        "!git clone https://github.com/CIA-Oceanix/4dvarnet-starter.git\n",
        "# %cd 4dvarnet-starter\n"
      ]
    },
    {
      "cell_type": "markdown",
      "metadata": {
        "id": "j_iWKhksOG9m"
      },
      "source": [
        "## Install Mamba from conda-forge environment"
      ]
    },
    {
      "cell_type": "code",
      "execution_count": 11,
      "metadata": {
        "id": "PIjeduy6JCCW"
      },
      "outputs": [],
      "source": [
        "!pip install --quiet condacolab"
      ]
    },
    {
      "cell_type": "code",
      "execution_count": 12,
      "metadata": {
        "colab": {
          "base_uri": "https://localhost:8080/"
        },
        "id": "3gnzyBEuOxT-",
        "outputId": "fcea6185-1929-4d73-c591-d41a91d6f836"
      },
      "outputs": [
        {
          "name": "stdout",
          "output_type": "stream",
          "text": [
            "✨🍰✨ Everything looks OK!\n"
          ]
        }
      ],
      "source": [
        "import condacolab\n",
        "condacolab.check()"
      ]
    },
    {
      "cell_type": "code",
      "execution_count": 14,
      "metadata": {
        "colab": {
          "base_uri": "https://localhost:8080/"
        },
        "id": "TqxH9zN2KSOp",
        "outputId": "ed98c545-bc00-4619-a86b-a4c16ca5535a"
      },
      "outputs": [
        {
          "name": "stdout",
          "output_type": "stream",
          "text": [
            "Channels:\n",
            " - conda-forge\n",
            "Platform: linux-64\n",
            "Collecting package metadata (repodata.json): ...working... done\n",
            "Solving environment: ...working... done\n",
            "\n",
            "# All requested packages already installed.\n",
            "\n"
          ]
        }
      ],
      "source": [
        "! conda install --quiet -c conda-forge mamba\n"
      ]
    },
    {
      "cell_type": "markdown",
      "metadata": {
        "id": "LYOgdUjkOg15"
      },
      "source": [
        "## Install Requirements"
      ]
    },
    {
      "cell_type": "code",
      "execution_count": 25,
      "metadata": {
        "colab": {
          "base_uri": "https://localhost:8080/"
        },
        "id": "C1keBrSnMuRI",
        "outputId": "2b01ea27-3259-42d9-882d-6a90d002000a"
      },
      "outputs": [
        {
          "name": "stdout",
          "output_type": "stream",
          "text": [
            "\u001b[33m\u001b[1mwarning  libmamba\u001b[m You have not set the root prefix environment variable.\n",
            "    To permanently modify the root prefix location, either:\n",
            "      - set the 'MAMBA_ROOT_PREFIX' environment variable\n",
            "      - use the '-r,--root-prefix' CLI option\n",
            "      - use 'mamba shell init ...' to initialize your shell\n",
            "        (then restart or source the contents of the shell init script)\n",
            "    Continuing with default value: \"/usr/local\"\n",
            "\u001b[33m\u001b[1mwarning  libmamba\u001b[m You are using 'pip' as an additional package manager.\n",
            "    Be aware that packages installed with 'pip' are managed independently from 'conda-forge' channel.\n"
          ]
        }
      ],
      "source": [
        "#! conda create -n 4dvarnet-starter\n",
        "#! conda activate 4dvarnet-starter\n",
        "#! mamba env update -f environment.yaml\n",
        "!mamba env update -n base --quiet -f 4dvarnet-starter/environment.yaml\n"
      ]
    },
    {
      "cell_type": "code",
      "execution_count": 40,
      "metadata": {
        "colab": {
          "base_uri": "https://localhost:8080/"
        },
        "id": "GTlVYemvZD0o",
        "outputId": "e54790d6-bf9b-45d2-9e7c-3999330d4125"
      },
      "outputs": [
        {
          "name": "stdout",
          "output_type": "stream",
          "text": [
            "\u001b[?25l\u001b[2K\u001b[0G\u001b[?25h\u001b[?25l\u001b[2K\u001b[0G[+] 0.0s\n",
            "\u001b[2K\u001b[1A\u001b[2K\u001b[0G[+] 0.1s\n",
            "pytorch/linux-64      ⣾  \n",
            "conda-forge/linux-64  ⣾  \n",
            "conda-forge/noarch    ⣾  \u001b[2K\u001b[1A\u001b[2K\u001b[1A\u001b[2K\u001b[1A\u001b[2K\u001b[0G[+] 0.2s\n",
            "conda-forge/linux-64   3%\n",
            "conda-forge/noarch     4%\u001b[2K\u001b[1A\u001b[2K\u001b[1A\u001b[2K\u001b[0G[+] 0.3s\n",
            "conda-forge/linux-64  10%\n",
            "conda-forge/noarch    20%\u001b[2K\u001b[1A\u001b[2K\u001b[1A\u001b[2K\u001b[0G[+] 0.4s\n",
            "conda-forge/linux-64  15%\n",
            "conda-forge/noarch    29%\u001b[2K\u001b[1A\u001b[2K\u001b[1A\u001b[2K\u001b[0G[+] 0.5s\n",
            "conda-forge/linux-64  18%\n",
            "conda-forge/noarch    34%\u001b[2K\u001b[1A\u001b[2K\u001b[1A\u001b[2K\u001b[0G[+] 0.6s\n",
            "conda-forge/linux-64  21%\n",
            "conda-forge/noarch    44%\u001b[2K\u001b[1A\u001b[2K\u001b[1A\u001b[2K\u001b[0G[+] 0.7s\n",
            "conda-forge/linux-64  25%\n",
            "conda-forge/noarch    51%\u001b[2K\u001b[1A\u001b[2K\u001b[1A\u001b[2K\u001b[0G[+] 0.8s\n",
            "conda-forge/linux-64  26%\n",
            "conda-forge/noarch    57%\u001b[2K\u001b[1A\u001b[2K\u001b[1A\u001b[2K\u001b[0G[+] 0.9s\n",
            "conda-forge/linux-64  29%\n",
            "conda-forge/noarch    62%\u001b[2K\u001b[1A\u001b[2K\u001b[1A\u001b[2K\u001b[0G[+] 1.0s\n",
            "conda-forge/linux-64  31%\n",
            "conda-forge/noarch    65%\u001b[2K\u001b[1A\u001b[2K\u001b[1A\u001b[2K\u001b[0G[+] 1.1s\n",
            "conda-forge/linux-64  34%\n",
            "conda-forge/noarch    71%\u001b[2K\u001b[1A\u001b[2K\u001b[1A\u001b[2K\u001b[0G[+] 1.2s\n",
            "conda-forge/linux-64  37%\n",
            "conda-forge/noarch    78%\u001b[2K\u001b[1A\u001b[2K\u001b[1A\u001b[2K\u001b[0G[+] 1.3s\n",
            "conda-forge/linux-64  38%\n",
            "conda-forge/noarch    83%\u001b[2K\u001b[1A\u001b[2K\u001b[1A\u001b[2K\u001b[0G[+] 1.4s\n",
            "conda-forge/linux-64  41%\n",
            "conda-forge/noarch    87%\u001b[2K\u001b[1A\u001b[2K\u001b[1A\u001b[2K\u001b[0G[+] 1.5s\n",
            "conda-forge/linux-64  41%\n",
            "conda-forge/noarch    87%\u001b[2K\u001b[1A\u001b[2K\u001b[1A\u001b[2K\u001b[0G[+] 1.6s\n",
            "conda-forge/linux-64  41%\n",
            "conda-forge/noarch    87%\u001b[2K\u001b[1A\u001b[2K\u001b[1A\u001b[2K\u001b[0G[+] 1.7s\n",
            "conda-forge/linux-64  41%\n",
            "conda-forge/noarch    87%\u001b[2K\u001b[1A\u001b[2K\u001b[1A\u001b[2K\u001b[0G[+] 1.8s\n",
            "conda-forge/linux-64  41%\n",
            "conda-forge/noarch    87%\u001b[2K\u001b[1A\u001b[2K\u001b[1A\u001b[2K\u001b[0G[+] 1.9s\n",
            "conda-forge/linux-64  41%\n",
            "conda-forge/noarch    87%\u001b[2K\u001b[1A\u001b[2K\u001b[1A\u001b[2K\u001b[0G[+] 2.0s\n",
            "conda-forge/linux-64  41%\n",
            "conda-forge/noarch    87%\u001b[2K\u001b[1A\u001b[2K\u001b[1A\u001b[2K\u001b[0G[+] 2.1s\n",
            "conda-forge/linux-64  41%\n",
            "conda-forge/noarch    87%\u001b[2K\u001b[1A\u001b[2K\u001b[1A\u001b[2K\u001b[0G[+] 2.2s\n",
            "conda-forge/linux-64  41%\n",
            "conda-forge/noarch    87%\u001b[2K\u001b[1A\u001b[2K\u001b[1A\u001b[2K\u001b[0G[+] 2.3s\n",
            "conda-forge/linux-64  41%\n",
            "conda-forge/noarch    87%\u001b[2K\u001b[1A\u001b[2K\u001b[1A\u001b[2K\u001b[0G[+] 2.4s\n",
            "conda-forge/linux-64  41%\n",
            "conda-forge/noarch    87%\u001b[2K\u001b[1A\u001b[2K\u001b[1A\u001b[2K\u001b[0G[+] 2.5s\n",
            "conda-forge/linux-64  41%\n",
            "conda-forge/noarch    87%\u001b[2K\u001b[1A\u001b[2K\u001b[1A\u001b[2K\u001b[0G[+] 2.6s\n",
            "conda-forge/linux-64  41%\n",
            "conda-forge/noarch    87%\u001b[2K\u001b[1A\u001b[2K\u001b[1A\u001b[2K\u001b[0G[+] 2.7s\n",
            "conda-forge/linux-64  41%\n",
            "conda-forge/noarch    87%\u001b[2K\u001b[1A\u001b[2K\u001b[1A\u001b[2K\u001b[0G[+] 2.8s\n",
            "conda-forge/linux-64  41%\n",
            "conda-forge/noarch    87%\u001b[2K\u001b[1A\u001b[2K\u001b[1A\u001b[2K\u001b[0G[+] 2.9s\n",
            "conda-forge/linux-64  41%\n",
            "conda-forge/noarch    87%\u001b[2K\u001b[1A\u001b[2K\u001b[1A\u001b[2K\u001b[0G[+] 3.0s\n",
            "conda-forge/linux-64  41%\n",
            "conda-forge/noarch    88%\u001b[2K\u001b[1A\u001b[2K\u001b[1A\u001b[2K\u001b[0G[+] 3.1s\n",
            "conda-forge/linux-64  41%\n",
            "conda-forge/noarch    88%\u001b[2K\u001b[1A\u001b[2K\u001b[1A\u001b[2K\u001b[0G[+] 3.2s\n",
            "conda-forge/linux-64  41%\n",
            "conda-forge/noarch    88%\u001b[2K\u001b[1A\u001b[2K\u001b[1A\u001b[2K\u001b[0G[+] 3.3s\n",
            "conda-forge/linux-64  41%\n",
            "conda-forge/noarch    88%\u001b[2K\u001b[1A\u001b[2K\u001b[1A\u001b[2K\u001b[0G[+] 3.4s\n",
            "conda-forge/linux-64  41%\n",
            "conda-forge/noarch    88%\u001b[2K\u001b[1A\u001b[2K\u001b[1A\u001b[2K\u001b[0G[+] 3.5s\n",
            "conda-forge/linux-64  41%\n",
            "conda-forge/noarch    88%\u001b[2K\u001b[1A\u001b[2K\u001b[1A\u001b[2K\u001b[0G[+] 3.6s\n",
            "conda-forge/linux-64  42%\n",
            "conda-forge/noarch    88%\u001b[2K\u001b[1A\u001b[2K\u001b[1A\u001b[2K\u001b[0G[+] 3.7s\n",
            "conda-forge/linux-64  42%\n",
            "conda-forge/noarch    88%\u001b[2K\u001b[1A\u001b[2K\u001b[1A\u001b[2K\u001b[0G[+] 3.8s\n",
            "conda-forge/linux-64  42%\n",
            "conda-forge/noarch    88%\u001b[2K\u001b[1A\u001b[2K\u001b[1A\u001b[2K\u001b[0G[+] 3.9s\n",
            "conda-forge/linux-64  42%\n",
            "conda-forge/noarch    88%\u001b[2K\u001b[1A\u001b[2K\u001b[1A\u001b[2K\u001b[0G[+] 4.0s\n",
            "conda-forge/linux-64  42%\n",
            "conda-forge/noarch    88%\u001b[2K\u001b[1A\u001b[2K\u001b[1A\u001b[2K\u001b[0G[+] 4.1s\n",
            "conda-forge/linux-64  42%\n",
            "conda-forge/noarch    88%\u001b[2K\u001b[1A\u001b[2K\u001b[1A\u001b[2K\u001b[0G[+] 4.2s\n",
            "conda-forge/linux-64  42%\n",
            "conda-forge/noarch    89%\u001b[2K\u001b[1A\u001b[2K\u001b[1A\u001b[2K\u001b[0G[+] 4.3s\n",
            "conda-forge/linux-64  42%\n",
            "conda-forge/noarch    89%\u001b[2K\u001b[1A\u001b[2K\u001b[1A\u001b[2K\u001b[0G[+] 4.4s\n",
            "conda-forge/linux-64  42%\n",
            "conda-forge/noarch    89%\u001b[2K\u001b[1A\u001b[2K\u001b[1A\u001b[2K\u001b[0G[+] 4.5s\n",
            "conda-forge/linux-64  42%\n",
            "conda-forge/noarch    89%\u001b[2K\u001b[1A\u001b[2K\u001b[1A\u001b[2K\u001b[0G[+] 4.6s\n",
            "conda-forge/linux-64  42%\n",
            "conda-forge/noarch    89%\u001b[2K\u001b[1A\u001b[2K\u001b[1A\u001b[2K\u001b[0G[+] 4.7s\n",
            "conda-forge/linux-64  42%\n",
            "conda-forge/noarch    89%\u001b[2K\u001b[1A\u001b[2K\u001b[1A\u001b[2K\u001b[0G[+] 4.8s\n",
            "conda-forge/linux-64  42%\n",
            "conda-forge/noarch    89%\u001b[2K\u001b[1A\u001b[2K\u001b[1A\u001b[2K\u001b[0G[+] 4.9s\n",
            "conda-forge/linux-64  42%\n",
            "conda-forge/noarch    89%\u001b[2K\u001b[1A\u001b[2K\u001b[1A\u001b[2K\u001b[0G[+] 5.0s\n",
            "conda-forge/linux-64  42%\n",
            "conda-forge/noarch    89%\u001b[2K\u001b[1A\u001b[2K\u001b[1A\u001b[2K\u001b[0G[+] 5.1s\n",
            "conda-forge/linux-64  42%\n",
            "conda-forge/noarch    89%\u001b[2K\u001b[1A\u001b[2K\u001b[1A\u001b[2K\u001b[0G[+] 5.2s\n",
            "conda-forge/linux-64  42%\n",
            "conda-forge/noarch    89%\u001b[2K\u001b[1A\u001b[2K\u001b[1A\u001b[2K\u001b[0G[+] 5.3s\n",
            "conda-forge/linux-64  42%\n",
            "conda-forge/noarch    89%\u001b[2K\u001b[1A\u001b[2K\u001b[1A\u001b[2K\u001b[0G[+] 5.4s\n",
            "conda-forge/linux-64  42%\n",
            "conda-forge/noarch    90%\u001b[2K\u001b[1A\u001b[2K\u001b[1A\u001b[2K\u001b[0G[+] 5.5s\n",
            "conda-forge/linux-64  42%\n",
            "conda-forge/noarch    90%\u001b[2K\u001b[1A\u001b[2K\u001b[1A\u001b[2K\u001b[0G[+] 5.6s\n",
            "conda-forge/linux-64  42%\n",
            "conda-forge/noarch    90%\u001b[2K\u001b[1A\u001b[2K\u001b[1A\u001b[2K\u001b[0G[+] 5.7s\n",
            "conda-forge/linux-64  42%\n",
            "conda-forge/noarch    90%\u001b[2K\u001b[1A\u001b[2K\u001b[1A\u001b[2K\u001b[0G[+] 5.8s\n",
            "conda-forge/linux-64  42%\n",
            "conda-forge/noarch    90%\u001b[2K\u001b[1A\u001b[2K\u001b[1A\u001b[2K\u001b[0G[+] 5.9s\n",
            "conda-forge/linux-64  43%\n",
            "conda-forge/noarch    91%\u001b[2K\u001b[1A\u001b[2K\u001b[1A\u001b[2K\u001b[0Gconda-forge/noarch                                \n",
            "[+] 6.0s\n",
            "conda-forge/linux-64  45%\u001b[2K\u001b[1A\u001b[2K\u001b[0G[+] 6.1s\n",
            "conda-forge/linux-64  51%\u001b[2K\u001b[1A\u001b[2K\u001b[0G[+] 6.2s\n",
            "conda-forge/linux-64  58%\u001b[2K\u001b[1A\u001b[2K\u001b[0G[+] 6.3s\n",
            "conda-forge/linux-64  66%\u001b[2K\u001b[1A\u001b[2K\u001b[0G[+] 6.4s\n",
            "conda-forge/linux-64  72%\u001b[2K\u001b[1A\u001b[2K\u001b[0G[+] 6.5s\n",
            "conda-forge/linux-64  75%\u001b[2K\u001b[1A\u001b[2K\u001b[0G[+] 6.6s\n",
            "conda-forge/linux-64  81%\u001b[2K\u001b[1A\u001b[2K\u001b[0G[+] 6.7s\n",
            "conda-forge/linux-64  86%\u001b[2K\u001b[1A\u001b[2K\u001b[0G[+] 6.8s\n",
            "conda-forge/linux-64  89%\u001b[2K\u001b[1A\u001b[2K\u001b[0G[+] 6.9s\n",
            "conda-forge/linux-64  93%\u001b[2K\u001b[1A\u001b[2K\u001b[0G[+] 7.0s\n",
            "conda-forge/linux-64  99%\u001b[2K\u001b[1A\u001b[2K\u001b[0G[+] 7.1s\n",
            "conda-forge/linux-64  99%\u001b[2K\u001b[1A\u001b[2K\u001b[0Gconda-forge/linux-64                              \n",
            "\u001b[?25h\n",
            "Pinned packages:\n",
            "\n",
            "  - python=3.11\n",
            "\n",
            "Pinned packages:\n",
            "\n",
            "  - python_abi[version=\"=3.11\",build=\"*cp311*\"]\n",
            "\n",
            "Pinned packages:\n",
            "\n",
            "  - cuda-version=12\n",
            "\n",
            "Pinned packages:\n",
            "\n",
            "  - python=3.11\n",
            "\n",
            "\n",
            "Transaction\n",
            "\n",
            "  Prefix: /usr/local\n",
            "\n",
            "  Updating specs:\n",
            "\n",
            "   - torchaudio=2.0\n",
            "\n",
            "\n",
            "  Package       Version  Build        Channel     Size\n",
            "────────────────────────────────────────────────────────\n",
            "  Install:\n",
            "────────────────────────────────────────────────────────\n",
            "\n",
            "  \u001b[32m+ torchaudio\u001b[0m    2.0.2  py311_cu117  pytorch      8MB\n",
            "\n",
            "  Summary:\n",
            "\n",
            "  Install: 1 packages\n",
            "\n",
            "  Total download: 8MB\n",
            "\n",
            "────────────────────────────────────────────────────────\n",
            "\n",
            "\n",
            "\n",
            "Transaction starting\n",
            "\u001b[?25l\u001b[2K\u001b[0G[+] 0.0s\n",
            "Downloading        5%\n",
            "Extracting         0%\u001b[2K\u001b[1A\u001b[2K\u001b[1A\u001b[2K\u001b[0G[+] 0.1s\n",
            "Downloading  (1)   0%\n",
            "Extracting         0%\u001b[2K\u001b[1A\u001b[2K\u001b[1A\u001b[2K\u001b[0G[+] 0.2s\n",
            "Downloading  (1)   1%\n",
            "Extracting         0%\u001b[2K\u001b[1A\u001b[2K\u001b[1A\u001b[2K\u001b[0Gtorchaudio                                           8.0MB @  26.8MB/s  0.2s\n",
            "[+] 0.3s\n",
            "Downloading      100%\n",
            "Extracting         0%\u001b[2K\u001b[1A\u001b[2K\u001b[1A\u001b[2K\u001b[0G[+] 0.4s\n",
            "Downloading      100%\n",
            "Extracting   (1)  |  \u001b[2K\u001b[1A\u001b[2K\u001b[1A\u001b[2K\u001b[0G[+] 0.5s\n",
            "Downloading      100%\n",
            "Extracting   (1)  |  \u001b[2K\u001b[1A\u001b[2K\u001b[1A\u001b[2K\u001b[0G[+] 0.6s\n",
            "Downloading      100%\n",
            "Extracting   (1)  |  \u001b[2K\u001b[1A\u001b[2K\u001b[1A\u001b[2K\u001b[0G[+] 0.7s\n",
            "Downloading      100%\n",
            "Extracting   (1)  |  \u001b[2K\u001b[1A\u001b[2K\u001b[1A\u001b[2K\u001b[0G[+] 0.8s\n",
            "Downloading      100%\n",
            "Extracting   (1)  |  \u001b[2K\u001b[1A\u001b[2K\u001b[1A\u001b[2K\u001b[0G[+] 0.9s\n",
            "Downloading      100%\n",
            "Extracting   (1)  |  \u001b[2K\u001b[1A\u001b[2K\u001b[1A\u001b[2K\u001b[0G[+] 1.0s\n",
            "Downloading      100%\n",
            "Extracting   (1)  |  \u001b[2K\u001b[1A\u001b[2K\u001b[1A\u001b[2K\u001b[0G[+] 1.1s\n",
            "Downloading      100%\n",
            "Extracting   (1)  |  \u001b[2K\u001b[1A\u001b[2K\u001b[1A\u001b[2K\u001b[0G[+] 1.2s\n",
            "Downloading      100%\n",
            "Extracting   (1)  |  \u001b[2K\u001b[1A\u001b[2K\u001b[1A\u001b[2K\u001b[0G[+] 1.3s\n",
            "Downloading      100%\n",
            "Extracting   (1)  |  \u001b[2K\u001b[1A\u001b[2K\u001b[1A\u001b[2K\u001b[0G\u001b[?25hLinking torchaudio-2.0.2-py311_cu117\n",
            "\n",
            "Transaction finished\n",
            "\n",
            "To activate this environment, use:\n",
            "\n",
            "    mamba activate base\n",
            "\n",
            "Or to execute a single command in this environment, use:\n",
            "\n",
            "    mamba run -n base mycommand\n",
            "\n"
          ]
        }
      ],
      "source": [
        "!mamba install torchaudio=2.0 -c pytorch"
      ]
    },
    {
      "cell_type": "code",
      "execution_count": 43,
      "metadata": {
        "colab": {
          "base_uri": "https://localhost:8080/"
        },
        "id": "2RWJuHtVaEgB",
        "outputId": "6d928971-2fc9-4c6d-ec5f-2c9b6de8c305"
      },
      "outputs": [
        {
          "name": "stdout",
          "output_type": "stream",
          "text": [
            "conda-forge/linux-64                                        Using cache\n",
            "conda-forge/noarch                                          Using cache\n",
            "\u001b[?25l\u001b[2K\u001b[0G[+] 0.0s\n",
            "\u001b[2K\u001b[1A\u001b[2K\u001b[0G\u001b[?25h\u001b[?25l\u001b[2K\u001b[0G[+] 0.0s\n",
            "\u001b[2K\u001b[1A\u001b[2K\u001b[0G\u001b[?25h\n",
            "Pinned packages:\n",
            "\n",
            "  - python=3.11\n",
            "\n",
            "Pinned packages:\n",
            "\n",
            "  - python_abi[version=\"=3.11\",build=\"*cp311*\"]\n",
            "\n",
            "Pinned packages:\n",
            "\n",
            "  - cuda-version=12\n",
            "\n",
            "Pinned packages:\n",
            "\n",
            "  - python=3.11\n",
            "\n",
            "\n",
            "Transaction\n",
            "\n",
            "  Prefix: /usr/local\n",
            "\n",
            "  Updating specs:\n",
            "\n",
            "   - numpy<2.0\n",
            "\n",
            "\n",
            "  Package  Version  Build            Channel           Size\n",
            "─────────────────────────────────────────────────────────────\n",
            "  Downgrade:\n",
            "─────────────────────────────────────────────────────────────\n",
            "\n",
            "  \u001b[31m- numpy\u001b[0m    2.2.3  py311h5d046bc_0  conda-forge\u001b[32m     Cached\u001b[0m\n",
            "  \u001b[32m+ numpy\u001b[0m   1.26.4  py311h64a7726_0  conda-forge        8MB\n",
            "\n",
            "  Summary:\n",
            "\n",
            "  Downgrade: 1 packages\n",
            "\n",
            "  Total download: 8MB\n",
            "\n",
            "─────────────────────────────────────────────────────────────\n",
            "\n",
            "\n",
            "\n",
            "Transaction starting\n",
            "\u001b[?25l\u001b[2K\u001b[0G[+] 0.0s\n",
            "Downloading        5%\n",
            "Extracting         0%\u001b[2K\u001b[1A\u001b[2K\u001b[1A\u001b[2K\u001b[0G[+] 0.1s\n",
            "Downloading  (1)   0%\n",
            "Extracting         0%\u001b[2K\u001b[1A\u001b[2K\u001b[1A\u001b[2K\u001b[0Gnumpy                                                8.1MB @  10.7MB/s  0.1s\n",
            "[+] 0.2s\n",
            "Downloading      100%\n",
            "Extracting         0%\u001b[2K\u001b[1A\u001b[2K\u001b[1A\u001b[2K\u001b[0G[+] 0.3s\n",
            "Downloading      100%\n",
            "Extracting   (1)  ⣾  \u001b[2K\u001b[1A\u001b[2K\u001b[1A\u001b[2K\u001b[0G[+] 0.4s\n",
            "Downloading      100%\n",
            "Extracting   (1)  ⣾  \u001b[2K\u001b[1A\u001b[2K\u001b[1A\u001b[2K\u001b[0G[+] 0.5s\n",
            "Downloading      100%\n",
            "Extracting   (1)  ⣾  \u001b[2K\u001b[1A\u001b[2K\u001b[1A\u001b[2K\u001b[0G\u001b[?25hUnlinking numpy-2.2.3-py311h5d046bc_0\n",
            "Linking numpy-1.26.4-py311h64a7726_0\n",
            "\n",
            "Transaction finished\n",
            "\n",
            "To activate this environment, use:\n",
            "\n",
            "    mamba activate base\n",
            "\n",
            "Or to execute a single command in this environment, use:\n",
            "\n",
            "    mamba run -n base mycommand\n",
            "\n"
          ]
        }
      ],
      "source": [
        "!mamba install 'numpy<2.0'"
      ]
    },
    {
      "cell_type": "markdown",
      "metadata": {
        "id": "GzyvFRqqKq_x"
      },
      "source": [
        "# Download sample datas"
      ]
    },
    {
      "cell_type": "code",
      "execution_count": 28,
      "metadata": {
        "colab": {
          "base_uri": "https://localhost:8080/"
        },
        "id": "SdvRX0wnKu3s",
        "outputId": "29374f47-3b15-451e-e7d0-c9bfa3b48e8a"
      },
      "outputs": [
        {
          "name": "stdout",
          "output_type": "stream",
          "text": [
            "--2025-02-25 08:45:15--  https://s3.eu-central-1.wasabisys.com/sla-data-registry/6d/206c6be2dfe0edf1a53c29029ed239\n",
            "Resolving s3.eu-central-1.wasabisys.com (s3.eu-central-1.wasabisys.com)... 130.117.252.109, 130.117.252.102, 130.117.252.106, ...\n",
            "Connecting to s3.eu-central-1.wasabisys.com (s3.eu-central-1.wasabisys.com)|130.117.252.109|:443... connected.\n",
            "HTTP request sent, awaiting response... 200 OK\n",
            "Length: 252302952 (241M) [binary/octet-stream]\n",
            "Saving to: ‘4dvarnet-starter/data/natl_gf_w_5nadirs.nc’\n",
            "\n",
            "4dvarnet-starter/da 100%[===================>] 240.61M  27.6MB/s    in 9.3s    \n",
            "\n",
            "2025-02-25 08:45:25 (25.8 MB/s) - ‘4dvarnet-starter/data/natl_gf_w_5nadirs.nc’ saved [252302952/252302952]\n",
            "\n"
          ]
        }
      ],
      "source": [
        "!wget https://s3.eu-central-1.wasabisys.com/sla-data-registry/6d/206c6be2dfe0edf1a53c29029ed239 -nc -O 4dvarnet-starter/data/natl_gf_w_5nadirs.nc"
      ]
    },
    {
      "cell_type": "markdown",
      "metadata": {
        "id": "VXs8Q040K7V6"
      },
      "source": [
        "# Declare utils function"
      ]
    },
    {
      "cell_type": "markdown",
      "metadata": {
        "id": "jAnQTTTlGDST"
      },
      "source": [
        "## Config"
      ]
    },
    {
      "cell_type": "code",
      "execution_count": null,
      "metadata": {
        "id": "CbOtLhy_GF-L"
      },
      "outputs": [],
      "source": [
        "import yaml\n",
        "\n",
        "def load_config(config_path=\"config/config.yaml\"):\n",
        "    \"\"\"Charge la configuration depuis un fichier YAML.\"\"\"\n",
        "    with open(config_path, 'r') as file:\n",
        "        config = yaml.safe_load(file)\n",
        "    return config"
      ]
    },
    {
      "cell_type": "markdown",
      "metadata": {
        "id": "SmeZluBKGGcr"
      },
      "source": [
        "## printing utils"
      ]
    },
    {
      "cell_type": "code",
      "execution_count": 41,
      "metadata": {
        "id": "Yyv6iQt7K5Xb"
      },
      "outputs": [],
      "source": [
        "\n",
        "import yaml\n",
        "import inspect\n",
        "from IPython.display import Markdown, display\n",
        "from omegaconf import OmegaConf\n",
        "\n",
        "def pprint_cfg(cfg):\n",
        "    display(Markdown(\"\"\"```yaml\\n\\n\"\"\" +yaml.dump(OmegaConf.to_container(cfg), default_flow_style=None, indent=2)+\"\"\"\\n\\n```\"\"\"))\n",
        "\n",
        "def pprint_code(mod):\n",
        "    display(Markdown(\"\"\"```python\\n\\n\"\"\" +inspect.getsource(mod)+\"\"\"\\n\\n```\"\"\"))\n"
      ]
    },
    {
      "cell_type": "markdown",
      "metadata": {
        "id": "94fLeF62SXRo"
      },
      "source": [
        "# Start working with 4Dvarnet"
      ]
    },
    {
      "cell_type": "code",
      "execution_count": 33,
      "metadata": {
        "colab": {
          "base_uri": "https://localhost:8080/"
        },
        "id": "mst4W4pNSkiH",
        "outputId": "716d835a-7f26-4b62-fd49-ff1f5f418717"
      },
      "outputs": [
        {
          "name": "stdout",
          "output_type": "stream",
          "text": [
            "/content/4dvarnet-starter\n"
          ]
        }
      ],
      "source": [
        "%cd 4dvarnet-starter"
      ]
    },
    {
      "cell_type": "markdown",
      "metadata": {
        "id": "obmmzpwFM4mn"
      },
      "source": [
        "## Modules Import"
      ]
    },
    {
      "cell_type": "code",
      "execution_count": 34,
      "metadata": {
        "id": "Dy0hncjUNCgP"
      },
      "outputs": [],
      "source": [
        "import yaml"
      ]
    },
    {
      "cell_type": "markdown",
      "metadata": {
        "id": "EOGHtAW5X_5X"
      },
      "source": [
        "## Gestion de la configuration"
      ]
    },
    {
      "cell_type": "markdown",
      "metadata": {
        "id": "O_vcjtHiSz46"
      },
      "source": [
        "### Create a config/config.yaml file"
      ]
    },
    {
      "cell_type": "markdown",
      "metadata": {
        "id": "srw1qyXlS5PW"
      },
      "source": [
        "\n",
        "\n",
        "``` yaml\n",
        "dataset:\n",
        "  path: \"data/natl_gf_w_5nadirs.nc\"\n",
        "  batch_size: 16\n",
        "model:\n",
        "  type: \"bigger_model\"\n",
        "  learning_rate: 0.001\n",
        "training:\n",
        "  epochs: 100\n",
        "  output_dir: \"outputs/\"\n",
        "```\n",
        "\n"
      ]
    },
    {
      "cell_type": "markdown",
      "metadata": {
        "id": "19nKpj6xV6WU"
      },
      "source": [
        "## Gestion des Datamodule"
      ]
    },
    {
      "cell_type": "markdown",
      "metadata": {
        "id": "LEY2mVasXUGo"
      },
      "source": [
        "# Lancement de l'entrainement\n"
      ]
    },
    {
      "cell_type": "code",
      "execution_count": 47,
      "metadata": {
        "colab": {
          "base_uri": "https://localhost:8080/"
        },
        "id": "icU8OhCAatqD",
        "outputId": "8fed015f-69fd-4c9a-d4cc-6698048c2c0e"
      },
      "outputs": [
        {
          "name": "stdout",
          "output_type": "stream",
          "text": [
            "/content/4dvarnet-starter\n",
            "src/models.py\n"
          ]
        }
      ],
      "source": [
        "!pwd\n",
        "!ls src/models.py"
      ]
    },
    {
      "cell_type": "code",
      "execution_count": 54,
      "metadata": {
        "colab": {
          "base_uri": "https://localhost:8080/",
          "height": 401
        },
        "id": "gO_GuvRnXPFl",
        "outputId": "7a47998d-d756-4406-d3b4-5770dd6846cb"
      },
      "outputs": [
        {
          "name": "stdout",
          "output_type": "stream",
          "text": [
            "['train.py', 'data.py', '__init__.py', 'models.py', 'versioning_cb.py', 'utils.py']\n"
          ]
        },
        {
          "ename": "ModuleNotFoundError",
          "evalue": "No module named 'src.models'",
          "output_type": "error",
          "traceback": [
            "\u001b[0;31m---------------------------------------------------------------------------\u001b[0m",
            "\u001b[0;31mModuleNotFoundError\u001b[0m                       Traceback (most recent call last)",
            "\u001b[0;32m<ipython-input-54-1c25c4a7f2db>\u001b[0m in \u001b[0;36m<cell line: 0>\u001b[0;34m()\u001b[0m\n\u001b[1;32m      8\u001b[0m \u001b[0;32mimport\u001b[0m \u001b[0myaml\u001b[0m\u001b[0;34m\u001b[0m\u001b[0;34m\u001b[0m\u001b[0m\n\u001b[1;32m      9\u001b[0m \u001b[0;32mimport\u001b[0m \u001b[0mpytorch_lightning\u001b[0m \u001b[0;32mas\u001b[0m \u001b[0mpl\u001b[0m\u001b[0;34m\u001b[0m\u001b[0;34m\u001b[0m\u001b[0m\n\u001b[0;32m---> 10\u001b[0;31m \u001b[0;32mfrom\u001b[0m \u001b[0msrc\u001b[0m\u001b[0;34m.\u001b[0m\u001b[0mmodels\u001b[0m \u001b[0;32mimport\u001b[0m \u001b[0mLit4DVarNet\u001b[0m\u001b[0;34m\u001b[0m\u001b[0;34m\u001b[0m\u001b[0m\n\u001b[0m\u001b[1;32m     11\u001b[0m \u001b[0;34m\u001b[0m\u001b[0m\n\u001b[1;32m     12\u001b[0m \u001b[0;31m#from src.data import BaseDataModule\u001b[0m\u001b[0;34m\u001b[0m\u001b[0;34m\u001b[0m\u001b[0m\n",
            "\u001b[0;31mModuleNotFoundError\u001b[0m: No module named 'src.models'",
            "",
            "\u001b[0;31m---------------------------------------------------------------------------\u001b[0;32m\nNOTE: If your import is failing due to a missing package, you can\nmanually install dependencies using either !pip or !apt.\n\nTo view examples of installing some common dependencies, click the\n\"Open Examples\" button below.\n\u001b[0;31m---------------------------------------------------------------------------\u001b[0m\n"
          ]
        }
      ],
      "source": [
        "import sys\n",
        "import os\n",
        "sys.path.append(os.path.abspath(\"src\"))\n",
        "print(os.listdir(\"src\"))\n",
        "#sys.path.append(os.path.abspath(os.path.dirname(__file__)))\n",
        "\n",
        "import torch\n",
        "import yaml\n",
        "import pytorch_lightning as pl\n",
        "from src.models import Lit4DVarNet\n",
        "\n",
        "#from src.data import BaseDataModule\n",
        "#from src.train import base_training\n",
        "\n",
        "\n",
        "# Charger la configuration\n",
        "config = load_config()\n",
        "\n",
        "# Forcer l'utilisation du CPU\n",
        "#device = torch.device(\"cpu\")\n",
        "#print(f\"Exécution sur : {device}\")\n",
        "\n",
        "# Initialiser le DataModule\n",
        "dm = BaseDataModule(\n",
        "    data_path=config[\"dataset\"][\"path\"],\n",
        "    batch_size=config[\"dataset\"].get(\"batch_size\", 1),\n",
        "    num_workers=config[\"dataset\"].get(\"num_workers\", 0)\n",
        ")\n",
        "\n",
        "\n",
        "# Initialiser le modèle\n",
        "lit_mod = Lit4DVarNet(config)\n",
        "\n",
        "\n",
        "# Initialiser le Trainer de PyTorch Lightning\n",
        "trainer = pl.Trainer(\n",
        "    max_epochs=config[\"training\"].get(\"epochs\", 2),  # Nombre d'époques\n",
        "    #accelerator=\"cpu\",  # Forcer l'utilisation du CPU\n",
        "    default_root_dir=config[\"training\"].get(\"output_dir\", \"outputs/\")  # Dossier de sortie\n",
        ")\n",
        "\n",
        "# Lancer l'entraînement\n",
        "trainer.fit(lit_mod, dm)\n",
        "\n"
      ]
    }
  ],
  "metadata": {
    "colab": {
      "provenance": []
    },
    "kernelspec": {
      "display_name": "usr",
      "language": "python",
      "name": "python3"
    },
    "language_info": {
      "codemirror_mode": {
        "name": "ipython",
        "version": 3
      },
      "file_extension": ".py",
      "mimetype": "text/x-python",
      "name": "python",
      "nbconvert_exporter": "python",
      "pygments_lexer": "ipython3",
      "version": "3.10.12"
    }
  },
  "nbformat": 4,
  "nbformat_minor": 0
}
